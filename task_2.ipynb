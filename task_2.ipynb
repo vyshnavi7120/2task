{
  "nbformat": 4,
  "nbformat_minor": 0,
  "metadata": {
    "colab": {
      "name": "task_2",
      "provenance": [],
      "collapsed_sections": [],
      "authorship_tag": "ABX9TyPZbpYcr2ToQk4v7Ck+71n7",
      "include_colab_link": true
    },
    "kernelspec": {
      "name": "python3",
      "display_name": "Python 3"
    },
    "language_info": {
      "name": "python"
    }
  },
  "cells": [
    {
      "cell_type": "markdown",
      "metadata": {
        "id": "view-in-github",
        "colab_type": "text"
      },
      "source": [
        "<a href=\"https://colab.research.google.com/github/vyshnavi7120/2task/blob/master/task_2.ipynb\" target=\"_parent\"><img src=\"https://colab.research.google.com/assets/colab-badge.svg\" alt=\"Open In Colab\"/></a>"
      ]
    },
    {
      "cell_type": "code",
      "metadata": {
        "id": "Qzl8rKBkjwz9"
      },
      "source": [
        "import json"
      ],
      "execution_count": 5,
      "outputs": []
    },
    {
      "cell_type": "code",
      "metadata": {
        "id": "u5B_ct8Vj-q4"
      },
      "source": [
        "fd = open(\"task_2.json\", 'r')\n",
        "r = fd.read()\n",
        "fd.close()\n",
        "\n",
        "records = json.loads(r)"
      ],
      "execution_count": 6,
      "outputs": []
    },
    {
      "cell_type": "code",
      "metadata": {
        "colab": {
          "base_uri": "https://localhost:8080/",
          "height": 86
        },
        "id": "6tqd3p40kCcj",
        "outputId": "b2431955-8d00-4c9d-c3a2-3a1b16bed418"
      },
      "source": [
        "r"
      ],
      "execution_count": 7,
      "outputs": [
        {
          "output_type": "execute_result",
          "data": {
            "application/vnd.google.colaboratory.intrinsic+json": {
              "type": "string"
            },
            "text/plain": [
              "'{\"1001\": {\"name\": \"Vyshnavi\", \"price\": 986, \"quantity\": 3}, \"1002\": {\"name\": \"Nithish\", \"price\": 899, \"quantity\": 5}, \"1003\": {\"name\": \"Kumar\", \"price\": 989, \"quantity\": 2}, \"1004\": {\"name\": \"Talla\", \"price\": 786, \"quantity\": 4}, \"1005\": {\"name\": \"Hari\", \"price\": 345, \"quantity\": 7}, \"1006\": {\"name\": \"meera\", \"price\": 897, \"quantity\": 3}, \"1007\": {\"name\": \"krishna\", \"price\": 456, \"quantity\": 6}, \"1008\": {\"name\": \"naina\", \"price\": 567, \"quantity\": 5}}'"
            ]
          },
          "metadata": {},
          "execution_count": 7
        }
      ]
    },
    {
      "cell_type": "code",
      "metadata": {
        "colab": {
          "base_uri": "https://localhost:8080/"
        },
        "id": "RS2LJp3PkhvX",
        "outputId": "f9100839-db0b-4c7f-83f2-773322999bd6"
      },
      "source": [
        "records"
      ],
      "execution_count": 8,
      "outputs": [
        {
          "output_type": "execute_result",
          "data": {
            "text/plain": [
              "{'1001': {'name': 'Vyshnavi', 'price': 986, 'quantity': 3},\n",
              " '1002': {'name': 'Nithish', 'price': 899, 'quantity': 5},\n",
              " '1003': {'name': 'Kumar', 'price': 989, 'quantity': 2},\n",
              " '1004': {'name': 'Talla', 'price': 786, 'quantity': 4},\n",
              " '1005': {'name': 'Hari', 'price': 345, 'quantity': 7},\n",
              " '1006': {'name': 'meera', 'price': 897, 'quantity': 3},\n",
              " '1007': {'name': 'krishna', 'price': 456, 'quantity': 6},\n",
              " '1008': {'name': 'naina', 'price': 567, 'quantity': 5}}"
            ]
          },
          "metadata": {},
          "execution_count": 8
        }
      ]
    },
    {
      "cell_type": "code",
      "metadata": {
        "colab": {
          "base_uri": "https://localhost:8080/"
        },
        "id": "UNE5Jm10kq6Y",
        "outputId": "44e92e8e-57e2-4b95-ae93-1393e285601e"
      },
      "source": [
        "ui_prod = str(input(\"Enter the product Id: \"))\n",
        "ui_quant = int(input(\"Enter the quantity: \"))\n",
        "\n",
        "print(\"product: \", records[ui_prod][\"name\"])\n",
        "print(\"price: \", records[ui_prod][\"price\"])\n",
        "print(\"Billing Amount: \", records[ui_prod][\"price\"]*ui_quant)\n",
        "\n",
        "records[ui_prod][\"quantity\"] = records[ui_prod][\"quantity\"] - ui_quant"
      ],
      "execution_count": 9,
      "outputs": [
        {
          "output_type": "stream",
          "name": "stdout",
          "text": [
            "Enter the product Id: 1001\n",
            "Enter the quantity: 3\n",
            "product:  Vyshnavi\n",
            "price:  986\n",
            "Billing Amount:  2958\n"
          ]
        }
      ]
    },
    {
      "cell_type": "markdown",
      "metadata": {
        "id": "q5B6MoCan3AD"
      },
      "source": [
        "### **Update Inventory after purchase:**"
      ]
    },
    {
      "cell_type": "code",
      "metadata": {
        "id": "Y4p4n5Dvl9M0"
      },
      "source": [
        "js = json.dumps(records)\n",
        "\n",
        "fd = open(\"task_2.json\", 'w')\n",
        "fd.write(js)\n",
        "fd.close()"
      ],
      "execution_count": 10,
      "outputs": []
    },
    {
      "cell_type": "code",
      "metadata": {
        "id": "6T8dtx5Wo9P8"
      },
      "source": [
        "sales = {1 : {'prod' : ui_prod, 'quantity' : ui_quant, 'amount' : records[ui_prod]['price']*ui_quant },\n",
        "         2 : {'prod' : ui_prod, 'quantity' : ui_quant, 'amount' : records[ui_prod]['price']*ui_quant },\n",
        "         3 : {'prod' : ui_prod, 'quantity' : ui_quant, 'amount' : records[ui_prod]['price']*ui_quant }}"
      ],
      "execution_count": 11,
      "outputs": []
    },
    {
      "cell_type": "code",
      "metadata": {
        "id": "Xth4jnEcpb_U",
        "colab": {
          "base_uri": "https://localhost:8080/",
          "height": 52
        },
        "outputId": "36f2c4bd-8b66-4d19-b458-2822025f3b0b"
      },
      "source": [
        "json.dumps(sales)"
      ],
      "execution_count": 12,
      "outputs": [
        {
          "output_type": "execute_result",
          "data": {
            "application/vnd.google.colaboratory.intrinsic+json": {
              "type": "string"
            },
            "text/plain": [
              "'{\"1\": {\"prod\": \"1001\", \"quantity\": 3, \"amount\": 2958}, \"2\": {\"prod\": \"1001\", \"quantity\": 3, \"amount\": 2958}, \"3\": {\"prod\": \"1001\", \"quantity\": 3, \"amount\": 2958}}'"
            ]
          },
          "metadata": {},
          "execution_count": 12
        }
      ]
    },
    {
      "cell_type": "code",
      "metadata": {
        "id": "6zED5wZSCs-6"
      },
      "source": [
        "fd = open('task_2.json', 'r')\n",
        "r = fd.read()\n",
        "fd.close()"
      ],
      "execution_count": 13,
      "outputs": []
    },
    {
      "cell_type": "code",
      "metadata": {
        "colab": {
          "base_uri": "https://localhost:8080/",
          "height": 86
        },
        "id": "cMQOyPZKDSfG",
        "outputId": "abe6107a-2151-4814-fed2-f00cbdd2dc59"
      },
      "source": [
        "r"
      ],
      "execution_count": 14,
      "outputs": [
        {
          "output_type": "execute_result",
          "data": {
            "application/vnd.google.colaboratory.intrinsic+json": {
              "type": "string"
            },
            "text/plain": [
              "'{\"1001\": {\"name\": \"Vyshnavi\", \"price\": 986, \"quantity\": 0}, \"1002\": {\"name\": \"Nithish\", \"price\": 899, \"quantity\": 5}, \"1003\": {\"name\": \"Kumar\", \"price\": 989, \"quantity\": 2}, \"1004\": {\"name\": \"Talla\", \"price\": 786, \"quantity\": 4}, \"1005\": {\"name\": \"Hari\", \"price\": 345, \"quantity\": 7}, \"1006\": {\"name\": \"meera\", \"price\": 897, \"quantity\": 3}, \"1007\": {\"name\": \"krishna\", \"price\": 456, \"quantity\": 6}, \"1008\": {\"name\": \"naina\", \"price\": 567, \"quantity\": 5}}'"
            ]
          },
          "metadata": {},
          "execution_count": 14
        }
      ]
    },
    {
      "cell_type": "code",
      "metadata": {
        "colab": {
          "base_uri": "https://localhost:8080/"
        },
        "id": "xjIT6RXrEPPM",
        "outputId": "dd5cfa06-db52-4931-ad96-e9d913c70c98"
      },
      "source": [
        "{(len(sales)+1 ): {'prod' : ui_prod, 'quantity' : ui_quant, 'amount' : records[ui_prod]['price']*ui_quant }}"
      ],
      "execution_count": 17,
      "outputs": [
        {
          "output_type": "execute_result",
          "data": {
            "text/plain": [
              "{4: {'amount': 2958, 'prod': '1001', 'quantity': 3}}"
            ]
          },
          "metadata": {},
          "execution_count": 17
        }
      ]
    },
    {
      "cell_type": "code",
      "metadata": {
        "id": "UPYEbOHbER-A"
      },
      "source": [
        "sales[(len(sales)+1)] = {'prod' : ui_prod, 'quantity' : ui_quant, 'amount' : records[ui_prod]['price']*ui_quant }"
      ],
      "execution_count": 18,
      "outputs": []
    },
    {
      "cell_type": "code",
      "metadata": {
        "colab": {
          "base_uri": "https://localhost:8080/"
        },
        "id": "sXzi7vJBFEDK",
        "outputId": "bde3b719-0396-489d-a088-87d99c9c2084"
      },
      "source": [
        "sales"
      ],
      "execution_count": 19,
      "outputs": [
        {
          "output_type": "execute_result",
          "data": {
            "text/plain": [
              "{1: {'amount': 2958, 'prod': '1001', 'quantity': 3},\n",
              " 2: {'amount': 2958, 'prod': '1001', 'quantity': 3},\n",
              " 3: {'amount': 2958, 'prod': '1001', 'quantity': 3},\n",
              " 4: {'amount': 2958, 'prod': '1001', 'quantity': 3}}"
            ]
          },
          "metadata": {},
          "execution_count": 19
        }
      ]
    },
    {
      "cell_type": "code",
      "metadata": {
        "id": "qlWKbUUSFFZK"
      },
      "source": [
        "sale = json.dumps(sales)"
      ],
      "execution_count": 20,
      "outputs": []
    },
    {
      "cell_type": "code",
      "metadata": {
        "colab": {
          "base_uri": "https://localhost:8080/",
          "height": 52
        },
        "id": "WQ5ToFw8GCU1",
        "outputId": "7e6e8530-f97b-4033-c9c2-954af6efd1a9"
      },
      "source": [
        "sale"
      ],
      "execution_count": 21,
      "outputs": [
        {
          "output_type": "execute_result",
          "data": {
            "application/vnd.google.colaboratory.intrinsic+json": {
              "type": "string"
            },
            "text/plain": [
              "'{\"1\": {\"prod\": \"1001\", \"quantity\": 3, \"amount\": 2958}, \"2\": {\"prod\": \"1001\", \"quantity\": 3, \"amount\": 2958}, \"3\": {\"prod\": \"1001\", \"quantity\": 3, \"amount\": 2958}, \"4\": {\"prod\": \"1001\", \"quantity\": 3, \"amount\": 2958}}'"
            ]
          },
          "metadata": {},
          "execution_count": 21
        }
      ]
    },
    {
      "cell_type": "code",
      "metadata": {
        "id": "NrLQkIVAG_By"
      },
      "source": [
        ""
      ],
      "execution_count": null,
      "outputs": []
    }
  ]
}