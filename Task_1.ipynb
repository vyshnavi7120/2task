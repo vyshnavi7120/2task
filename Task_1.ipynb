{
  "nbformat": 4,
  "nbformat_minor": 0,
  "metadata": {
    "colab": {
      "name": "Task_1",
      "provenance": [],
      "authorship_tag": "ABX9TyPMYfGpsrYI13F8U0KVVCbc",
      "include_colab_link": true
    },
    "kernelspec": {
      "name": "python3",
      "display_name": "Python 3"
    },
    "language_info": {
      "name": "python"
    }
  },
  "cells": [
    {
      "cell_type": "markdown",
      "metadata": {
        "id": "view-in-github",
        "colab_type": "text"
      },
      "source": [
        "<a href=\"https://colab.research.google.com/github/vyshnavi7120/2task/blob/master/Task_1.ipynb\" target=\"_parent\"><img src=\"https://colab.research.google.com/assets/colab-badge.svg\" alt=\"Open In Colab\"/></a>"
      ]
    },
    {
      "cell_type": "code",
      "metadata": {
        "id": "cg8U3cZdWTdn"
      },
      "source": [
        "record = {1001 : { 'name' : 'Vyshnavi', 'price' : 986, 'quantity' : 3 },\n",
        "          1002 : { 'name' : 'Nithish', 'price' : 899, 'quantity' : 5 },\n",
        "          1003 : { 'name' : 'Kumar', 'price' : 989, 'quantity' : 2 }} "
      ],
      "execution_count": 1,
      "outputs": []
    },
    {
      "cell_type": "code",
      "metadata": {
        "colab": {
          "base_uri": "https://localhost:8080/"
        },
        "id": "ejC30XN2XP7R",
        "outputId": "e7ac193c-c40a-41ce-8453-b1c91962b40e"
      },
      "source": [
        "record"
      ],
      "execution_count": 2,
      "outputs": [
        {
          "output_type": "execute_result",
          "data": {
            "text/plain": [
              "{1001: {'name': 'Vyshnavi', 'price': 986, 'quantity': 3},\n",
              " 1002: {'name': 'Nithish', 'price': 899, 'quantity': 5},\n",
              " 1003: {'name': 'Kumar', 'price': 989, 'quantity': 2}}"
            ]
          },
          "metadata": {},
          "execution_count": 2
        }
      ]
    },
    {
      "cell_type": "code",
      "metadata": {
        "colab": {
          "base_uri": "https://localhost:8080/"
        },
        "id": "FFyPlWsHYph8",
        "outputId": "89de5e03-8ab8-41b2-eeb3-d12cedcc0c59"
      },
      "source": [
        "type(record)"
      ],
      "execution_count": 3,
      "outputs": [
        {
          "output_type": "execute_result",
          "data": {
            "text/plain": [
              "dict"
            ]
          },
          "metadata": {},
          "execution_count": 3
        }
      ]
    },
    {
      "cell_type": "code",
      "metadata": {
        "id": "wgnH4do0Yxxw"
      },
      "source": [
        "import json\n"
      ],
      "execution_count": 4,
      "outputs": []
    },
    {
      "cell_type": "code",
      "metadata": {
        "id": "KlQSSNHJZIZv"
      },
      "source": [
        "data = json.dumps(record)"
      ],
      "execution_count": 5,
      "outputs": []
    },
    {
      "cell_type": "code",
      "metadata": {
        "colab": {
          "base_uri": "https://localhost:8080/",
          "height": 52
        },
        "id": "fNnX2SluZMWQ",
        "outputId": "34feb9fe-9529-4663-e739-20b5d7b775d8"
      },
      "source": [
        "data"
      ],
      "execution_count": 6,
      "outputs": [
        {
          "output_type": "execute_result",
          "data": {
            "application/vnd.google.colaboratory.intrinsic+json": {
              "type": "string"
            },
            "text/plain": [
              "'{\"1001\": {\"name\": \"Vyshnavi\", \"price\": 986, \"quantity\": 3}, \"1002\": {\"name\": \"Nithish\", \"price\": 899, \"quantity\": 5}, \"1003\": {\"name\": \"Kumar\", \"price\": 989, \"quantity\": 2}}'"
            ]
          },
          "metadata": {},
          "execution_count": 6
        }
      ]
    },
    {
      "cell_type": "code",
      "metadata": {
        "colab": {
          "base_uri": "https://localhost:8080/"
        },
        "id": "50g5YBFyZXI_",
        "outputId": "ab05bbea-1d67-40fa-b2e1-775f6f3a1088"
      },
      "source": [
        "type(data)"
      ],
      "execution_count": 7,
      "outputs": [
        {
          "output_type": "execute_result",
          "data": {
            "text/plain": [
              "str"
            ]
          },
          "metadata": {},
          "execution_count": 7
        }
      ]
    },
    {
      "cell_type": "code",
      "metadata": {
        "id": "O_1zW-6zcGdU"
      },
      "source": [
        "fd = open(\"task_1.json\", 'w')\n",
        "\n",
        "fd.write(data)\n",
        "\n",
        "fd.close()"
      ],
      "execution_count": 8,
      "outputs": []
    },
    {
      "cell_type": "code",
      "metadata": {
        "id": "4R7mIpRMcZ79"
      },
      "source": [
        "fd = open(\"task_1.json\", 'r')\n",
        "\n",
        "txt = fd.read()\n",
        "\n",
        "fd.close()"
      ],
      "execution_count": 9,
      "outputs": []
    },
    {
      "cell_type": "code",
      "metadata": {
        "colab": {
          "base_uri": "https://localhost:8080/",
          "height": 52
        },
        "id": "JYFiYqfKckH9",
        "outputId": "36ccb2ef-57fa-490f-fc1e-f8c819c4aa54"
      },
      "source": [
        "txt"
      ],
      "execution_count": 10,
      "outputs": [
        {
          "output_type": "execute_result",
          "data": {
            "application/vnd.google.colaboratory.intrinsic+json": {
              "type": "string"
            },
            "text/plain": [
              "'{\"1001\": {\"name\": \"Vyshnavi\", \"price\": 986, \"quantity\": 3}, \"1002\": {\"name\": \"Nithish\", \"price\": 899, \"quantity\": 5}, \"1003\": {\"name\": \"Kumar\", \"price\": 989, \"quantity\": 2}}'"
            ]
          },
          "metadata": {},
          "execution_count": 10
        }
      ]
    },
    {
      "cell_type": "code",
      "metadata": {
        "colab": {
          "base_uri": "https://localhost:8080/"
        },
        "id": "hQady-PNcmyC",
        "outputId": "e70b8562-5892-4b54-f3a2-5fac99e1872a"
      },
      "source": [
        "type(txt)"
      ],
      "execution_count": 11,
      "outputs": [
        {
          "output_type": "execute_result",
          "data": {
            "text/plain": [
              "str"
            ]
          },
          "metadata": {},
          "execution_count": 11
        }
      ]
    },
    {
      "cell_type": "code",
      "metadata": {
        "id": "LLlW1GLbcorg"
      },
      "source": [
        "task_1 = json.loads(txt)"
      ],
      "execution_count": 12,
      "outputs": []
    },
    {
      "cell_type": "code",
      "metadata": {
        "colab": {
          "base_uri": "https://localhost:8080/"
        },
        "id": "gBjPv4SQczWf",
        "outputId": "3a9262df-25b6-4924-880d-8e986804b2a1"
      },
      "source": [
        "task_1"
      ],
      "execution_count": 13,
      "outputs": [
        {
          "output_type": "execute_result",
          "data": {
            "text/plain": [
              "{'1001': {'name': 'Vyshnavi', 'price': 986, 'quantity': 3},\n",
              " '1002': {'name': 'Nithish', 'price': 899, 'quantity': 5},\n",
              " '1003': {'name': 'Kumar', 'price': 989, 'quantity': 2}}"
            ]
          },
          "metadata": {},
          "execution_count": 13
        }
      ]
    },
    {
      "cell_type": "code",
      "metadata": {
        "colab": {
          "base_uri": "https://localhost:8080/"
        },
        "id": "9mwA44WMc0qf",
        "outputId": "2b7c3350-1c6c-46c6-aa0b-46840140d0b6"
      },
      "source": [
        "type(task_1)"
      ],
      "execution_count": 14,
      "outputs": [
        {
          "output_type": "execute_result",
          "data": {
            "text/plain": [
              "dict"
            ]
          },
          "metadata": {},
          "execution_count": 14
        }
      ]
    },
    {
      "cell_type": "markdown",
      "metadata": {
        "id": "TnxrtvaWecE1"
      },
      "source": [
        "### **Add a new item to the list:**"
      ]
    },
    {
      "cell_type": "code",
      "metadata": {
        "colab": {
          "base_uri": "https://localhost:8080/"
        },
        "id": "DspFZpwBc3DY",
        "outputId": "a4e98f10-d7a9-4593-a115-c1e855e1494b"
      },
      "source": [
        "prod_id = str(input(\"Enter product Id: \"))\n",
        "name = str(input(\"Enter name: \"))\n",
        "price = int(input(\"Enter the price of the product: \"))\n",
        "quantity = int(input(\"Enter the quantity of product: \"))"
      ],
      "execution_count": 15,
      "outputs": [
        {
          "name": "stdout",
          "output_type": "stream",
          "text": [
            "Enter product Id: 1004\n",
            "Enter name: Talla\n",
            "Enter the price of the product: 987\n",
            "Enter the quantity of product: 2\n"
          ]
        }
      ]
    },
    {
      "cell_type": "code",
      "metadata": {
        "id": "-IkZ3FhpdQix"
      },
      "source": [
        "task_1[prod_id] = {\"name\" : name, \"price\" : price, \"quantity\" : quantity}"
      ],
      "execution_count": 16,
      "outputs": []
    },
    {
      "cell_type": "code",
      "metadata": {
        "colab": {
          "base_uri": "https://localhost:8080/"
        },
        "id": "P05ZhR2BdcTM",
        "outputId": "296ff372-1ac1-4944-84ee-ea964d957bb7"
      },
      "source": [
        "task_1"
      ],
      "execution_count": 17,
      "outputs": [
        {
          "output_type": "execute_result",
          "data": {
            "text/plain": [
              "{'1001': {'name': 'Vyshnavi', 'price': 986, 'quantity': 3},\n",
              " '1002': {'name': 'Nithish', 'price': 899, 'quantity': 5},\n",
              " '1003': {'name': 'Kumar', 'price': 989, 'quantity': 2},\n",
              " '1004': {'name': 'Talla', 'price': 987, 'quantity': 2}}"
            ]
          },
          "metadata": {},
          "execution_count": 17
        }
      ]
    },
    {
      "cell_type": "markdown",
      "metadata": {
        "id": "xisHfRGahccN"
      },
      "source": [
        "### **Combining all the above steps into one code:**"
      ]
    },
    {
      "cell_type": "code",
      "metadata": {
        "colab": {
          "base_uri": "https://localhost:8080/"
        },
        "id": "g5wIeLUyhoMz",
        "outputId": "49dedf56-c13a-47b0-d886-8996ed1df26d"
      },
      "source": [
        "prod_id = str(input(\"Enter product Id: \"))\n",
        "name = str(input(\"Enter name: \"))\n",
        "price = int(input(\"Enter the price of the product: \"))\n",
        "quantity = int(input(\"Enter the quantity of product: \"))\n",
        "\n",
        "task_1[prod_id] = {\"name\" : name, \"price\" : price, \"quantity\" : quantity}\n",
        "3\n",
        "js = json.dumps(task_1)\n",
        "\n",
        "fd = open(\"task_1.json\", 'w')\n",
        "fd.write(js)\n",
        "fd.close()"
      ],
      "execution_count": 69,
      "outputs": [
        {
          "name": "stdout",
          "output_type": "stream",
          "text": [
            "Enter product Id: 1030\n",
            "Enter name: mug\n",
            "Enter the price of the product: 456\n",
            "Enter the quantity of product: 10\n"
          ]
        }
      ]
    },
    {
      "cell_type": "code",
      "metadata": {
        "id": "3Ptk-05tiERR",
        "colab": {
          "base_uri": "https://localhost:8080/",
          "height": 256
        },
        "outputId": "94c253ee-acac-44e8-8844-9068143c34c6"
      },
      "source": [
        "js"
      ],
      "execution_count": 70,
      "outputs": [
        {
          "output_type": "execute_result",
          "data": {
            "application/vnd.google.colaboratory.intrinsic+json": {
              "type": "string"
            },
            "text/plain": [
              "'{\"1001\": {\"name\": \"Vyshnavi\", \"price\": 986, \"quantity\": 3}, \"1002\": {\"name\": \"Nithish\", \"price\": 899, \"quantity\": 5}, \"1003\": {\"name\": \"Kumar\", \"price\": 989, \"quantity\": 2}, \"1004\": {\"name\": \"Talla\", \"price\": 987, \"quantity\": 2}, \"1005\": {\"name\": \"Meera\", \"price\": 876, \"quantity\": 3}, \"1006\": {\"name\": \"Krishna\", \"price\": 400, \"quantity\": 3}, \"1007\": {\"name\": \"hari\", \"price\": 678, \"quantity\": 3}, \"1008\": {\"name\": \"Jeera\", \"price\": 567, \"quantity\": 4}, \"1009\": {\"name\": \"pari\", \"price\": 900, \"quantity\": 3}, \"1010\": {\"name\": \"rina\", \"price\": 570, \"quantity\": 6}, \"1011\": {\"name\": \"naina\", \"price\": 800, \"quantity\": 3}, \"1012\": {\"name\": \"kali\", \"price\": 560, \"quantity\": 1}, \"1013\": {\"name\": \"likki\", \"price\": 670, \"quantity\": 3}, \"1014\": {\"name\": \"uma\", \"price\": 560, \"quantity\": 3}, \"1015\": {\"name\": \"sai\", \"price\": 590, \"quantity\": 8}, \"1016\": {\"name\": \"mahi\", \"price\": 500, \"quantity\": 1}, \"1017\": {\"name\": \"nani\", \"price\": 700, \"quantity\": 5}, \"1018\": {\"name\": \"usha\", \"price\": 400, \"quantity\": 1}, \"1019\": {\"name\": \"kamakshi\", \"price\": 870, \"quantity\": 3}, \"1020\": {\"name\": \"kamakshi\", \"price\": 678, \"quantity\": 4}, \"1021\": {\"name\": \"vysh\", \"price\": 674, \"quantity\": 3}, \"1022\": {\"name\": \"gani\", \"price\": 345, \"quantity\": 9}, \"1023\": {\"name\": \"tea\", \"price\": 789, \"quantity\": 4}, \"1024\": {\"name\": \"coffeee\", \"price\": 350, \"quantity\": 3}, \"1025\": {\"name\": \"bed\", \"price\": 800, \"quantity\": 5}, \"1026\": {\"name\": \"cot\", \"price\": 345, \"quantity\": 3}, \"1027\": {\"name\": \"kit\", \"price\": 859, \"quantity\": 4}, \"1028\": {\"name\": \"jug\", \"price\": 789, \"quantity\": 3}, \"1029\": {\"name\": \"kettle\", \"price\": 586, \"quantity\": 4}, \"1030\": {\"name\": \"mug\", \"price\": 456, \"quantity\": 10}}'"
            ]
          },
          "metadata": {},
          "execution_count": 70
        }
      ]
    },
    {
      "cell_type": "code",
      "metadata": {
        "id": "ioK5SehtA5X3"
      },
      "source": [
        ""
      ],
      "execution_count": null,
      "outputs": []
    }
  ]
}